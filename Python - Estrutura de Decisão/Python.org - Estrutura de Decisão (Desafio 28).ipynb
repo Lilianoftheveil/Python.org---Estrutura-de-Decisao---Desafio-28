{
 "cells": [
  {
   "cell_type": "code",
   "execution_count": null,
   "id": "f704985c",
   "metadata": {},
   "outputs": [],
   "source": [
    "Python - Lista de Exercícios (Estrutura de Decisão) \n",
    "link: https://wiki.python.org.br/EstruturaDeDecisao"
   ]
  },
  {
   "cell_type": "markdown",
   "id": "0788cfd9",
   "metadata": {},
   "source": [
    "28) O Hipermercado Tabajara está com uma promoção de carnes que é imperdível. Confira:\n",
    "\n",
    "Até 5 Kg (File Duplo 4,90 por Kg / Alcatra 5,90 por Kg / Picanha 6,90 por Kg)\n",
    "\n",
    "Acima de 5 Kg (File Duplo 5,80 por Kg / Alcatra 6,80 por Kg / Picanha 7,80 por Kg)\n",
    "\n",
    "Para atender a todos os clientes, cada cliente poderá levar apenas um dos tipos de carne da promoção, \n",
    "porém não há limites para a quantidade de carne por cliente. \n",
    "\n",
    "Se compra for feita no cartão Tabajara o cliente receberá ainda um desconto de 5% sobre o total da compra. \n",
    "\n",
    "Escreva um programa que peça o tipo e a quantidade de carne comprada pelo usuário e gere um cupom fiscal, \n",
    "contendo as informações da compra: tipo e quantidade de carne, preço total, tipo de pagamento, \n",
    "valor do desconto e valor a pagar."
   ]
  },
  {
   "cell_type": "code",
   "execution_count": null,
   "id": "6d7cf684",
   "metadata": {},
   "outputs": [],
   "source": [
    "Obs.: Visando desenvolver o programa de forma mais dinâmica e menos suscetível a erros, adicionei \n",
    "outras estruturas no corpo do código. De modo que apenas números e strings válidas sejam aceitas\n",
    "durante sua execução."
   ]
  },
  {
   "cell_type": "code",
   "execution_count": null,
   "id": "eb6d47b6",
   "metadata": {},
   "outputs": [],
   "source": [
    "while True:\n",
    "  y = input(\"Quantidade (Kg): \")\n",
    "  try:\n",
    "    float(y)\n",
    "    break\n",
    "  except:\n",
    "    print(\"Por favor, digite apenas números.\")\n",
    "    continue\n",
    "\n",
    "while True:\n",
    "  x = input(\"Tipo de Carne: (F) File Duplo / (A) Alcatra / (P) Picanha: \").upper()\n",
    "  t = input(\"Tipo de Pagamento: Cartão Comum (C) / Cartão Tabajara (T): \").upper()\n",
    "  if x != \"F\" and x != \"A\" and x != \"P\":\n",
    "    print(\"Por favor, digite apenas uma letra (F, A ou P)\")\n",
    "    continue\n",
    "  elif t != \"C\" and t != \"T\":\n",
    "    print(\"Por favor, digite apenas uma letra (C ou T)\")\n",
    "    continue\n",
    "  else:\n",
    "    break\n",
    "  \n",
    "if x == \"A\":\n",
    "  x = \"Alcatra\"\n",
    "  if float(y) <= 5:\n",
    "    v = float(y) * 5.90\n",
    "  elif float(y) > 5:\n",
    "    v = float(y) * 6.80\n",
    "elif x == \"F\":\n",
    "  x = \"File Duplo\"\n",
    "  if float(y) <= 5:\n",
    "    v = float(y) * 4.90\n",
    "  elif float(y) > 5:\n",
    "    v = float(y) * 5.80\n",
    "elif x == \"P\":\n",
    "  x = \"Picanha\"\n",
    "  if float(y) <= 5:\n",
    "    v = float(y) * 6.90\n",
    "  elif float(y) > 5:\n",
    "    v = float(y) * 7.80\n",
    "\n",
    "if t == \"T\":\n",
    "  t = \"Cartão Tabajara\"\n",
    "  d = round(v * 0.05, 2)\n",
    "  v2 = v - d\n",
    "elif t == \"C\":\n",
    "  t = \"Cartão Comum\"\n",
    "  d = 0\n",
    "  v2 = v\n",
    "\n",
    "print(f\"Tipo de Carne: {x}\")\n",
    "print(f\"Quantidade em (Kg): {y}\")\n",
    "print(f\"Preço Total: {v}\")\n",
    "print(f\"Tipo de Pagamento: {t}\")\n",
    "print(f\"Desconto: {d}\")\n",
    "print(f\"Valor a Pagar: {round(v2, 2)}\")"
   ]
  }
 ],
 "metadata": {
  "kernelspec": {
   "display_name": "Python 3 (ipykernel)",
   "language": "python",
   "name": "python3"
  },
  "language_info": {
   "codemirror_mode": {
    "name": "ipython",
    "version": 3
   },
   "file_extension": ".py",
   "mimetype": "text/x-python",
   "name": "python",
   "nbconvert_exporter": "python",
   "pygments_lexer": "ipython3",
   "version": "3.8.10"
  }
 },
 "nbformat": 4,
 "nbformat_minor": 5
}
